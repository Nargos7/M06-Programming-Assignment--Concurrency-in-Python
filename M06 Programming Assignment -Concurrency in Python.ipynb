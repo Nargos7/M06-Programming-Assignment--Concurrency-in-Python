{
 "cells": [
  {
   "cell_type": "code",
   "execution_count": null,
   "id": "73e058e7",
   "metadata": {},
   "outputs": [],
   "source": [
    "#13.1\n",
    "# Write the current date as a string to the text file today.txt\n",
    "#today.txt\n",
    "'2024-02-22'"
   ]
  },
  {
   "cell_type": "code",
   "execution_count": null,
   "id": "70eeb361",
   "metadata": {},
   "outputs": [],
   "source": [
    "#13.2\n",
    "# Read the text file today.txt into the string today_string\n",
    "with open('today.txt', 'r') as file:\n",
    "    today_string = file.read()\n",
    "\n",
    "print(today_string)"
   ]
  },
  {
   "cell_type": "code",
   "execution_count": null,
   "id": "dc9017f9",
   "metadata": {},
   "outputs": [],
   "source": [
    "#13.3\n",
    "#Parse the date from today_string\n",
    "from datetime import datetime\n",
    "\n",
    "# today_string is in the format 'YYYY-MM-DD'\n",
    "today_string = '2024-02-22'\n",
    "\n",
    "# Parse the date from the string\n",
    "parsed_date = datetime.strptime(today_string, '%Y-%m-%d')\n",
    "\n",
    "print(parsed_date)"
   ]
  },
  {
   "cell_type": "code",
   "execution_count": null,
   "id": "5075041a",
   "metadata": {},
   "outputs": [],
   "source": [
    "#15.1\n",
    "#Use multiprocessing to create three separate processes. \n",
    "#Make each one wait a random number of seconds between zero and one, \n",
    "#print the current time, and then exit.\n",
    "import multiprocessing\n",
    "import time\n",
    "import random\n",
    "from datetime import datetime\n",
    "\n",
    "def worker():\n",
    "    # Wait for a random time between 0 and 1 second\n",
    "    wait_time = random.random()\n",
    "    time.sleep(wait_time)\n",
    "\n",
    "    # Print the current time\n",
    "    print(f\"Process ID: {multiprocessing.current_process().pid}, Time: {datetime.now()}\")\n",
    "\n",
    "if __name__ == '__main__':\n",
    "    processes = []\n",
    "\n",
    "    # Create 3 separate processes\n",
    "    for _ in range(3):\n",
    "        p = multiprocessing.Process(target=worker)\n",
    "        processes.append(p)\n",
    "        p.start()\n",
    "\n",
    "    # Wait for all processes to complete\n",
    "    for p in processes:\n",
    "        p.join()\n",
    "\n",
    "    print(\"All processes have finished execution. Exit\")"
   ]
  }
 ],
 "metadata": {
  "kernelspec": {
   "display_name": "Python 3 (ipykernel)",
   "language": "python",
   "name": "python3"
  },
  "language_info": {
   "codemirror_mode": {
    "name": "ipython",
    "version": 3
   },
   "file_extension": ".py",
   "mimetype": "text/x-python",
   "name": "python",
   "nbconvert_exporter": "python",
   "pygments_lexer": "ipython3",
   "version": "3.11.5"
  }
 },
 "nbformat": 4,
 "nbformat_minor": 5
}
